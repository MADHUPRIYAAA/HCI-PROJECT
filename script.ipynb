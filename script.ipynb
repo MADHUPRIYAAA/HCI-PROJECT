{
  "nbformat": 4,
  "nbformat_minor": 0,
  "metadata": {
    "colab": {
      "provenance": [],
      "authorship_tag": "ABX9TyOvdduKmQ0Oh1ddvw9MXn74",
      "include_colab_link": true
    },
    "kernelspec": {
      "name": "python3",
      "display_name": "Python 3"
    },
    "language_info": {
      "name": "python"
    }
  },
  "cells": [
    {
      "cell_type": "markdown",
      "metadata": {
        "id": "view-in-github",
        "colab_type": "text"
      },
      "source": [
        "<a href=\"https://colab.research.google.com/github/MADHUPRIYAAA/HCI-PROJECT/blob/main/script.ipynb\" target=\"_parent\"><img src=\"https://colab.research.google.com/assets/colab-badge.svg\" alt=\"Open In Colab\"/></a>"
      ]
    },
    {
      "cell_type": "code",
      "execution_count": null,
      "metadata": {
        "id": "9DeKTo-yY1kW"
      },
      "outputs": [],
      "source": [
        "// Function to navigate and display the correct section\n",
        "function navigateTo(sectionId) {\n",
        "  console.log(Navigating to section: ${sectionId}); // Debug log\n",
        "\n",
        "  // Hide all sections first\n",
        "  const sections = document.querySelectorAll('.section');\n",
        "  sections.forEach(section => {\n",
        "    section.style.display = 'none';\n",
        "  });\n",
        "\n",
        "  // Show the selected section\n",
        "  const selectedSection = document.getElementById(sectionId);\n",
        "  if (selectedSection) {\n",
        "    selectedSection.style.display = 'block';\n",
        "    console.log(Section '${sectionId}' displayed.);\n",
        "  } else {\n",
        "    console.error(Section with ID '${sectionId}' not found.);\n",
        "  }\n",
        "}\n",
        "\n",
        "// Initialize by displaying the 'home' section by default\n",
        "navigateTo('home');\n",
        "\n",
        "// Get Started Alert Function\n",
        "function getStarted() {\n",
        "  alert('Welcome! Let\\'s get started!');\n",
        "}\n",
        "\n",
        "// Function to show event details with blurred background\n",
        "function showDetails(id) {\n",
        "  document.getElementById(id).style.display = \"flex\";\n",
        "  document.body.classList.add(\"blurred-background\");\n",
        "}\n",
        "\n",
        "// Function to hide event details and remove the blur effect\n",
        "function hideDetails(id) {\n",
        "  document.getElementById(id).style.display = \"none\";\n",
        "  document.body.classList.remove(\"blurred-background\");\n",
        "}"
      ]
    }
  ]
}